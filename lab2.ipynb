{
 "cells": [
  {
   "cell_type": "code",
   "execution_count": 11,
   "id": "6c413018-07a4-43fc-8655-2b4eed26aaa6",
   "metadata": {},
   "outputs": [
    {
     "name": "stdout",
     "output_type": "stream",
     "text": [
      "Hot Days:\n",
      "Day      Temperature (°C)\n",
      "3        36.8\n",
      "6        38.7\n",
      "10        37.2\n",
      "\n",
      "Cold Days:\n",
      "Day      Temperature (°C)\n"
     ]
    }
   ],
   "source": [
    "\n",
    "import numpy as np\n",
    "\n",
    "# Given temperatures array\n",
    "temperatures = np.array([32.5, 34.2, 36.8, 29.3, 31.0, 38.7, 23.1, 18.5, 22.8, 37.2])\n",
    "\n",
    "\n",
    "hot_days = np.where(temperatures > 35)[0] + 1  # Adding 1 to convert zero-indexed to day numbers\n",
    "hot_temperatures = temperatures[temperatures > 35]\n",
    "cold_days = np.where(temperatures < 5)[0] + 1  # Adding 1 to convert zero-indexed to day numbers\n",
    "cold_temperatures = temperatures[temperatures < 5]\n",
    "\n",
    "def print_days_info(title, days, temperatures):\n",
    "    print(f\"{title}:\")\n",
    "    print(\"Day      Temperature (°C)\")\n",
    "    for day, temp in zip(days, temperatures):\n",
    "        print(f\"{day}        {temp:.1f}\")\n",
    "\n",
    "print_days_info(\"Hot Days\", hot_days, hot_temperatures)\n",
    "print()\n",
    "print_days_info(\"Cold Days\", cold_days, cold_temperatures)"
   ]
  },
  {
   "cell_type": "raw",
   "id": "b4f8a354-1352-48e6-8f97-b630f88b31e0",
   "metadata": {},
   "source": [
    "import numpy as np\n",
    "monthly_sales=np.array([120,135,140,165,180,155,168,190,205,198,210,225])\n",
    "\n",
    "# Reshape the array into a 4x3 matrix where each row represents a quarter\n",
    "quarterly_sales_matrix = monthly_sales.reshape((4, 3)\n",
    "\n",
    "print(\"Quarterly sales :\", quarterly_sales_matrix)"
   ]
  },
  {
   "cell_type": "code",
   "execution_count": 28,
   "id": "92daf789-f425-4f8e-9e65-1d6aed57a075",
   "metadata": {},
   "outputs": [
    {
     "name": "stdout",
     "output_type": "stream",
     "text": [
      "Customers who made a purchase in the last 30 days: [101 102 103 104 105]\n",
      "Customers who haven't made a purchase in the last 30 days: [106 107 108 109 110]\n"
     ]
    }
   ],
   "source": [
    "import numpy as np\n",
    "\n",
    "# Given customer data\n",
    "customer_ids = np.array([101, 102, 103, 104, 105, 106, 107, 108, 109, 110])\n",
    "last_purchase_days_ago = np.array([5, 15, 20, 25, 30, 35, 40, 45, 50, 55])\n",
    "\n",
    "# Create a boolean mask for customers who made a purchase in the last 30 days\n",
    "made_purchase_mask = last_purchase_days_ago <= 30\n",
    "\n",
    "# Split customer_ids into two groups\n",
    "customers_recent_purchase = customer_ids[made_purchase_mask]\n",
    "customers_no_recent_purchase = customer_ids[~made_purchase_mask]\n",
    "\n",
    "print(\"Customers who made a purchase in the last 30 days:\", customers_recent_purchase)\n",
    "print(\"Customers who haven't made a purchase in the last 30 days:\", customers_no_recent_purchase)\n"
   ]
  },
  {
   "cell_type": "code",
   "execution_count": 15,
   "id": "7edde409-95c4-414d-a7f3-d8de288f9d15",
   "metadata": {},
   "outputs": [
    {
     "name": "stdout",
     "output_type": "stream",
     "text": [
      "Combined Employee Dataset:\n",
      "[[101 'John Doe' 'Full-Time' 55000]\n",
      " [102 'Jane Smith' 'Full-Time' 60000]\n",
      " [103 'Mike Johnson' 'Full-Time' 52000]\n",
      " [201 'Alice Brown' 'Part-Time' 25000]\n",
      " [202 'Bob Wilson' 'Part-Time' 28000]\n",
      " [203 'Emily Davis' 'Part-Time' 22000]]\n"
     ]
    }
   ],
   "source": [
    "import numpy as np\n",
    "\n",
    "# Employee data for full-time employees\n",
    "full_time_employees = np.array([\n",
    "    [101, 'John Doe', 'Full-Time', 55000],\n",
    "    [102, 'Jane Smith', 'Full-Time', 60000],\n",
    "    [103, 'Mike Johnson', 'Full-Time', 52000]\n",
    "], dtype=object)  # Use dtype=object for mixed types\n",
    "\n",
    "# Employee data for part-time employees\n",
    "part_time_employees = np.array([\n",
    "    [201, 'Alice Brown', 'Part-Time', 25000],\n",
    "    [202, 'Bob Wilson', 'Part-Time', 28000],\n",
    "    [203, 'Emily Davis', 'Part-Time', 22000]\n",
    "], dtype=object)  # Use dtype=object for mixed types\n",
    "\n",
    "# Combine the two datasets\n",
    "combined_employees = np.vstack((full_time_employees, part_time_employees))\n",
    "\n",
    "print(\"Combined Employee Dataset:\")\n",
    "print(combined_employees)"
   ]
  },
  {
   "cell_type": "code",
   "execution_count": 22,
   "id": "e5a575e8-8ab8-4b14-9a19-1c81494aa384",
   "metadata": {},
   "outputs": [
    {
     "name": "stdout",
     "output_type": "stream",
     "text": [
      "Mean of elements in each array: [5.5, 30.6, 34.0]\n"
     ]
    }
   ],
   "source": [
    "import numpy as np\n",
    "\n",
    "list_of_arrays = [\n",
    "    np.array([3, 2, 8, 9]),\n",
    "    np.array([4, 12, 34, 25, 78]),\n",
    "    np.array([23, 12, 67])\n",
    "]\n",
    "\n",
    "means = [np.mean(arr) for arr in list_of_arrays]\n",
    "\n",
    "print(\"Mean of elements in each array:\", means)\n"
   ]
  },
  {
   "cell_type": "code",
   "execution_count": 24,
   "id": "4ea0dd7a-23ef-4d0a-8801-d34f300033f4",
   "metadata": {},
   "outputs": [
    {
     "name": "stdout",
     "output_type": "stream",
     "text": [
      "Median of the array: 4.0\n"
     ]
    }
   ],
   "source": [
    "import numpy as np\n",
    "\n",
    "x_odd = np.array([1, 2, 3, 4, 5, 6, 7])\n",
    "median_value = np.median(x_odd)\n",
    "print(\"Median of the array:\", median_value)\n"
   ]
  },
  {
   "cell_type": "code",
   "execution_count": 26,
   "id": "6df0da65-0a56-4b06-bdd7-e76c698d20d6",
   "metadata": {},
   "outputs": [
    {
     "name": "stdout",
     "output_type": "stream",
     "text": [
      "Standard deviation of the array: 12.576167937809991\n"
     ]
    }
   ],
   "source": [
    "import numpy as np\n",
    "arr = np.array([20, 2, 7, 1, 34])\n",
    "std_dev = np.std(arr)\n",
    "print(\"Standard deviation of the array:\", std_dev)\n"
   ]
  },
  {
   "cell_type": "code",
   "execution_count": null,
   "id": "47457409-209f-4fc0-bdc4-34db4ff68f77",
   "metadata": {},
   "outputs": [],
   "source": []
  }
 ],
 "metadata": {
  "kernelspec": {
   "display_name": "Python 3 (ipykernel)",
   "language": "python",
   "name": "python3"
  },
  "language_info": {
   "codemirror_mode": {
    "name": "ipython",
    "version": 3
   },
   "file_extension": ".py",
   "mimetype": "text/x-python",
   "name": "python",
   "nbconvert_exporter": "python",
   "pygments_lexer": "ipython3",
   "version": "3.12.4"
  }
 },
 "nbformat": 4,
 "nbformat_minor": 5
}
